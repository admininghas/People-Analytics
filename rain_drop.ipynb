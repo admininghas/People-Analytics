{
 "cells": [
  {
   "cell_type": "code",
   "execution_count": 236,
   "metadata": {
    "collapsed": true
   },
   "outputs": [],
   "source": [
    "import pandas as pd\n",
    "import numpy as np\n",
    "%matplotlib inline"
   ]
  },
  {
   "cell_type": "code",
   "execution_count": 337,
   "metadata": {
    "collapsed": true
   },
   "outputs": [],
   "source": [
    "train = pd.read_csv('train.csv')"
   ]
  },
  {
   "cell_type": "code",
   "execution_count": 288,
   "metadata": {},
   "outputs": [
    {
     "data": {
      "text/plain": [
       "job_level                                 object\n",
       "job_duration_in_current_job_level        float64\n",
       "person_level                              object\n",
       "job_duration_in_current_person_level     float64\n",
       "job_duration_in_current_branch           float64\n",
       "Employee_type                             object\n",
       "gender                                     int64\n",
       "age                                        int64\n",
       "marital_status_maried(Y/N)                object\n",
       "number_of_dependences                      int64\n",
       "Education_level                           object\n",
       "GPA                                      float64\n",
       "year_graduated                             int64\n",
       "job_duration_from_training                 int64\n",
       "branch_rotation                            int64\n",
       "job_rotation                               int64\n",
       "assign_of_otherposition                    int64\n",
       "annual leave                               int64\n",
       "sick_leaves                                int64\n",
       "Last_achievement_%                       float64\n",
       "Achievement_above_100%_during3quartal    float64\n",
       "Best Performance                           int64\n",
       "dtype: object"
      ]
     },
     "execution_count": 288,
     "metadata": {},
     "output_type": "execute_result"
    }
   ],
   "source": [
    "train.dtypes"
   ]
  },
  {
   "cell_type": "code",
   "execution_count": 289,
   "metadata": {},
   "outputs": [
    {
     "data": {
      "text/plain": [
       "job_level                                0\n",
       "job_duration_in_current_job_level        0\n",
       "person_level                             0\n",
       "job_duration_in_current_person_level     0\n",
       "job_duration_in_current_branch           0\n",
       "Employee_type                            0\n",
       "gender                                   0\n",
       "age                                      0\n",
       "marital_status_maried(Y/N)               0\n",
       "number_of_dependences                    0\n",
       "Education_level                          0\n",
       "GPA                                      0\n",
       "year_graduated                           0\n",
       "job_duration_from_training               0\n",
       "branch_rotation                          0\n",
       "job_rotation                             0\n",
       "assign_of_otherposition                  0\n",
       "annual leave                             0\n",
       "sick_leaves                              0\n",
       "Last_achievement_%                       1\n",
       "Achievement_above_100%_during3quartal    1\n",
       "Best Performance                         0\n",
       "dtype: int64"
      ]
     },
     "execution_count": 289,
     "metadata": {},
     "output_type": "execute_result"
    }
   ],
   "source": [
    "train.apply(lambda x: sum(x.isnull()))"
   ]
  },
  {
   "cell_type": "code",
   "execution_count": 290,
   "metadata": {},
   "outputs": [
    {
     "name": "stdout",
     "output_type": "stream",
     "text": [
      "\n",
      "Frekuensi jumlah variabel job_level\n",
      "JG04    10413\n",
      "JG05      704\n",
      "JG03       36\n",
      "Name: job_level, dtype: int64\n",
      "\n",
      "Frekuensi jumlah variabel person_level\n",
      "PG03    9655\n",
      "PG04     757\n",
      "PG06     378\n",
      "PG05     308\n",
      "PG07      19\n",
      "PG01      19\n",
      "PG02      16\n",
      "PG08       1\n",
      "Name: person_level, dtype: int64\n",
      "\n",
      "Frekuensi jumlah variabel Employee_type\n",
      "RM_type_A    7287\n",
      "RM_type_B    3380\n",
      "RM_type_C     486\n",
      "Name: Employee_type, dtype: int64\n",
      "\n",
      "Frekuensi jumlah variabel marital_status_maried(Y/N)\n",
      "Y    9501\n",
      "N    1652\n",
      "Name: marital_status_maried(Y/N), dtype: int64\n",
      "\n",
      "Frekuensi jumlah variabel Education_level\n",
      "level_4    9222\n",
      "level_3    1743\n",
      "level_1     140\n",
      "level_5      43\n",
      "level_2       4\n",
      "level_0       1\n",
      "Name: Education_level, dtype: int64\n"
     ]
    }
   ],
   "source": [
    "var = ['job_level', 'person_level', 'Employee_type', 'marital_status_maried(Y/N)', 'Education_level']\n",
    "for v in var:\n",
    "    print('\\nFrekuensi jumlah variabel', v)\n",
    "    print(train[v].value_counts())"
   ]
  },
  {
   "cell_type": "code",
   "execution_count": 327,
   "metadata": {
    "collapsed": true
   },
   "outputs": [],
   "source": [
    "from sklearn.preprocessing import LabelEncoder\n",
    "le = LabelEncoder()\n",
    "var_to_encode = ['job_level', 'person_level', 'Employee_type', 'marital_status_maried(Y/N)', 'Education_level']\n",
    "for col in var_to_encode:\n",
    "    train[col] = le.fit_transform(train[col])"
   ]
  },
  {
   "cell_type": "code",
   "execution_count": 328,
   "metadata": {},
   "outputs": [
    {
     "data": {
      "text/plain": [
       "Index(['job_duration_in_current_job_level',\n",
       "       'job_duration_in_current_person_level',\n",
       "       'job_duration_in_current_branch', 'gender', 'age',\n",
       "       'number_of_dependences', 'GPA', 'year_graduated',\n",
       "       'job_duration_from_training', 'branch_rotation', 'job_rotation',\n",
       "       'assign_of_otherposition', 'annual leave', 'sick_leaves',\n",
       "       'Last_achievement_%', 'Achievement_above_100%_during3quartal',\n",
       "       'Best Performance', 'job_level_0', 'job_level_1', 'job_level_2',\n",
       "       'person_level_0', 'person_level_1', 'person_level_2', 'person_level_3',\n",
       "       'person_level_4', 'person_level_5', 'person_level_6', 'person_level_7',\n",
       "       'Employee_type_0', 'Employee_type_1', 'Employee_type_2',\n",
       "       'marital_status_maried(Y/N)_0', 'marital_status_maried(Y/N)_1',\n",
       "       'Education_level_0', 'Education_level_1', 'Education_level_2',\n",
       "       'Education_level_3', 'Education_level_4', 'Education_level_5'],\n",
       "      dtype='object')"
      ]
     },
     "execution_count": 328,
     "metadata": {},
     "output_type": "execute_result"
    }
   ],
   "source": [
    "train = pd.get_dummies(train, columns=var_to_encode)\n",
    "train.columns"
   ]
  },
  {
   "cell_type": "code",
   "execution_count": 293,
   "metadata": {},
   "outputs": [
    {
     "data": {
      "text/html": [
       "<div>\n",
       "<style scoped>\n",
       "    .dataframe tbody tr th:only-of-type {\n",
       "        vertical-align: middle;\n",
       "    }\n",
       "\n",
       "    .dataframe tbody tr th {\n",
       "        vertical-align: top;\n",
       "    }\n",
       "\n",
       "    .dataframe thead th {\n",
       "        text-align: right;\n",
       "    }\n",
       "</style>\n",
       "<table border=\"1\" class=\"dataframe\">\n",
       "  <thead>\n",
       "    <tr style=\"text-align: right;\">\n",
       "      <th></th>\n",
       "      <th>job_duration_in_current_job_level</th>\n",
       "      <th>job_duration_in_current_person_level</th>\n",
       "      <th>job_duration_in_current_branch</th>\n",
       "      <th>gender</th>\n",
       "      <th>age</th>\n",
       "      <th>number_of_dependences</th>\n",
       "      <th>GPA</th>\n",
       "      <th>year_graduated</th>\n",
       "      <th>job_duration_from_training</th>\n",
       "      <th>branch_rotation</th>\n",
       "      <th>...</th>\n",
       "      <th>Employee_type_1</th>\n",
       "      <th>Employee_type_2</th>\n",
       "      <th>marital_status_maried(Y/N)_0</th>\n",
       "      <th>marital_status_maried(Y/N)_1</th>\n",
       "      <th>Education_level_0</th>\n",
       "      <th>Education_level_1</th>\n",
       "      <th>Education_level_2</th>\n",
       "      <th>Education_level_3</th>\n",
       "      <th>Education_level_4</th>\n",
       "      <th>Education_level_5</th>\n",
       "    </tr>\n",
       "  </thead>\n",
       "  <tbody>\n",
       "    <tr>\n",
       "      <th>0</th>\n",
       "      <td>1.352775</td>\n",
       "      <td>1.352775</td>\n",
       "      <td>1.732051</td>\n",
       "      <td>2</td>\n",
       "      <td>1985</td>\n",
       "      <td>1</td>\n",
       "      <td>2.86</td>\n",
       "      <td>2011</td>\n",
       "      <td>4</td>\n",
       "      <td>2</td>\n",
       "      <td>...</td>\n",
       "      <td>0</td>\n",
       "      <td>0</td>\n",
       "      <td>0</td>\n",
       "      <td>1</td>\n",
       "      <td>1</td>\n",
       "      <td>0</td>\n",
       "      <td>0</td>\n",
       "      <td>0</td>\n",
       "      <td>0</td>\n",
       "      <td>0</td>\n",
       "    </tr>\n",
       "    <tr>\n",
       "      <th>1</th>\n",
       "      <td>1.292285</td>\n",
       "      <td>1.292285</td>\n",
       "      <td>1.039230</td>\n",
       "      <td>2</td>\n",
       "      <td>1989</td>\n",
       "      <td>0</td>\n",
       "      <td>7.28</td>\n",
       "      <td>2007</td>\n",
       "      <td>4</td>\n",
       "      <td>4</td>\n",
       "      <td>...</td>\n",
       "      <td>0</td>\n",
       "      <td>0</td>\n",
       "      <td>0</td>\n",
       "      <td>1</td>\n",
       "      <td>0</td>\n",
       "      <td>1</td>\n",
       "      <td>0</td>\n",
       "      <td>0</td>\n",
       "      <td>0</td>\n",
       "      <td>0</td>\n",
       "    </tr>\n",
       "    <tr>\n",
       "      <th>2</th>\n",
       "      <td>2.565151</td>\n",
       "      <td>2.308679</td>\n",
       "      <td>1.780449</td>\n",
       "      <td>1</td>\n",
       "      <td>1970</td>\n",
       "      <td>1</td>\n",
       "      <td>0.00</td>\n",
       "      <td>1989</td>\n",
       "      <td>28</td>\n",
       "      <td>10</td>\n",
       "      <td>...</td>\n",
       "      <td>0</td>\n",
       "      <td>1</td>\n",
       "      <td>0</td>\n",
       "      <td>1</td>\n",
       "      <td>0</td>\n",
       "      <td>1</td>\n",
       "      <td>0</td>\n",
       "      <td>0</td>\n",
       "      <td>0</td>\n",
       "      <td>0</td>\n",
       "    </tr>\n",
       "    <tr>\n",
       "      <th>3</th>\n",
       "      <td>2.828427</td>\n",
       "      <td>1.000000</td>\n",
       "      <td>1.385641</td>\n",
       "      <td>2</td>\n",
       "      <td>1967</td>\n",
       "      <td>2</td>\n",
       "      <td>0.00</td>\n",
       "      <td>1987</td>\n",
       "      <td>29</td>\n",
       "      <td>11</td>\n",
       "      <td>...</td>\n",
       "      <td>0</td>\n",
       "      <td>0</td>\n",
       "      <td>0</td>\n",
       "      <td>1</td>\n",
       "      <td>0</td>\n",
       "      <td>1</td>\n",
       "      <td>0</td>\n",
       "      <td>0</td>\n",
       "      <td>0</td>\n",
       "      <td>0</td>\n",
       "    </tr>\n",
       "    <tr>\n",
       "      <th>4</th>\n",
       "      <td>2.828427</td>\n",
       "      <td>2.828427</td>\n",
       "      <td>0.707107</td>\n",
       "      <td>2</td>\n",
       "      <td>1965</td>\n",
       "      <td>3</td>\n",
       "      <td>7.20</td>\n",
       "      <td>1985</td>\n",
       "      <td>30</td>\n",
       "      <td>9</td>\n",
       "      <td>...</td>\n",
       "      <td>0</td>\n",
       "      <td>0</td>\n",
       "      <td>0</td>\n",
       "      <td>1</td>\n",
       "      <td>0</td>\n",
       "      <td>1</td>\n",
       "      <td>0</td>\n",
       "      <td>0</td>\n",
       "      <td>0</td>\n",
       "      <td>0</td>\n",
       "    </tr>\n",
       "  </tbody>\n",
       "</table>\n",
       "<p>5 rows × 39 columns</p>\n",
       "</div>"
      ],
      "text/plain": [
       "   job_duration_in_current_job_level  job_duration_in_current_person_level  \\\n",
       "0                           1.352775                              1.352775   \n",
       "1                           1.292285                              1.292285   \n",
       "2                           2.565151                              2.308679   \n",
       "3                           2.828427                              1.000000   \n",
       "4                           2.828427                              2.828427   \n",
       "\n",
       "   job_duration_in_current_branch  gender   age  number_of_dependences   GPA  \\\n",
       "0                        1.732051       2  1985                      1  2.86   \n",
       "1                        1.039230       2  1989                      0  7.28   \n",
       "2                        1.780449       1  1970                      1  0.00   \n",
       "3                        1.385641       2  1967                      2  0.00   \n",
       "4                        0.707107       2  1965                      3  7.20   \n",
       "\n",
       "   year_graduated  job_duration_from_training  branch_rotation  ...  \\\n",
       "0            2011                           4                2  ...   \n",
       "1            2007                           4                4  ...   \n",
       "2            1989                          28               10  ...   \n",
       "3            1987                          29               11  ...   \n",
       "4            1985                          30                9  ...   \n",
       "\n",
       "   Employee_type_1  Employee_type_2  marital_status_maried(Y/N)_0  \\\n",
       "0                0                0                             0   \n",
       "1                0                0                             0   \n",
       "2                0                1                             0   \n",
       "3                0                0                             0   \n",
       "4                0                0                             0   \n",
       "\n",
       "   marital_status_maried(Y/N)_1  Education_level_0  Education_level_1  \\\n",
       "0                             1                  1                  0   \n",
       "1                             1                  0                  1   \n",
       "2                             1                  0                  1   \n",
       "3                             1                  0                  1   \n",
       "4                             1                  0                  1   \n",
       "\n",
       "   Education_level_2  Education_level_3  Education_level_4  Education_level_5  \n",
       "0                  0                  0                  0                  0  \n",
       "1                  0                  0                  0                  0  \n",
       "2                  0                  0                  0                  0  \n",
       "3                  0                  0                  0                  0  \n",
       "4                  0                  0                  0                  0  \n",
       "\n",
       "[5 rows x 39 columns]"
      ]
     },
     "execution_count": 293,
     "metadata": {},
     "output_type": "execute_result"
    }
   ],
   "source": [
    "train.head()"
   ]
  },
  {
   "cell_type": "code",
   "execution_count": 294,
   "metadata": {},
   "outputs": [
    {
     "data": {
      "text/plain": [
       "job_duration_in_current_job_level        0\n",
       "job_duration_in_current_person_level     0\n",
       "job_duration_in_current_branch           0\n",
       "gender                                   0\n",
       "age                                      0\n",
       "number_of_dependences                    0\n",
       "GPA                                      0\n",
       "year_graduated                           0\n",
       "job_duration_from_training               0\n",
       "branch_rotation                          0\n",
       "job_rotation                             0\n",
       "assign_of_otherposition                  0\n",
       "annual leave                             0\n",
       "sick_leaves                              0\n",
       "Last_achievement_%                       1\n",
       "Achievement_above_100%_during3quartal    1\n",
       "Best Performance                         0\n",
       "job_level_0                              0\n",
       "job_level_1                              0\n",
       "job_level_2                              0\n",
       "person_level_0                           0\n",
       "person_level_1                           0\n",
       "person_level_2                           0\n",
       "person_level_3                           0\n",
       "person_level_4                           0\n",
       "person_level_5                           0\n",
       "person_level_6                           0\n",
       "person_level_7                           0\n",
       "Employee_type_0                          0\n",
       "Employee_type_1                          0\n",
       "Employee_type_2                          0\n",
       "marital_status_maried(Y/N)_0             0\n",
       "marital_status_maried(Y/N)_1             0\n",
       "Education_level_0                        0\n",
       "Education_level_1                        0\n",
       "Education_level_2                        0\n",
       "Education_level_3                        0\n",
       "Education_level_4                        0\n",
       "Education_level_5                        0\n",
       "dtype: int64"
      ]
     },
     "execution_count": 294,
     "metadata": {},
     "output_type": "execute_result"
    }
   ],
   "source": [
    "train.apply(lambda x: sum(x.isnull()))"
   ]
  },
  {
   "cell_type": "code",
   "execution_count": 338,
   "metadata": {
    "collapsed": true
   },
   "outputs": [],
   "source": [
    "train = train.fillna(train.mean())"
   ]
  },
  {
   "cell_type": "code",
   "execution_count": 330,
   "metadata": {
    "scrolled": true
   },
   "outputs": [
    {
     "data": {
      "text/plain": [
       "0    9516\n",
       "1    1637\n",
       "Name: Best Performance, dtype: int64"
      ]
     },
     "execution_count": 330,
     "metadata": {},
     "output_type": "execute_result"
    }
   ],
   "source": [
    "train['Best Performance'].value_counts()"
   ]
  },
  {
   "cell_type": "code",
   "execution_count": 416,
   "metadata": {
    "collapsed": true
   },
   "outputs": [],
   "source": [
    "train2 = train.copy()"
   ]
  },
  {
   "cell_type": "code",
   "execution_count": 417,
   "metadata": {},
   "outputs": [],
   "source": [
    "train2 = train2.select_dtypes('number')"
   ]
  },
  {
   "cell_type": "code",
   "execution_count": 372,
   "metadata": {},
   "outputs": [
    {
     "data": {
      "text/plain": [
       "job_duration_in_current_job_level        float64\n",
       "job_duration_in_current_person_level     float64\n",
       "job_duration_in_current_branch           float64\n",
       "gender                                     int64\n",
       "age                                        int64\n",
       "number_of_dependences                      int64\n",
       "GPA                                      float64\n",
       "year_graduated                             int64\n",
       "job_duration_from_training                 int64\n",
       "branch_rotation                            int64\n",
       "job_rotation                               int64\n",
       "assign_of_otherposition                    int64\n",
       "annual leave                               int64\n",
       "sick_leaves                                int64\n",
       "Last_achievement_%                       float64\n",
       "Achievement_above_100%_during3quartal    float64\n",
       "Best Performance                           int64\n",
       "dtype: object"
      ]
     },
     "execution_count": 372,
     "metadata": {},
     "output_type": "execute_result"
    }
   ],
   "source": [
    "train2.dtypes"
   ]
  },
  {
   "cell_type": "code",
   "execution_count": 412,
   "metadata": {},
   "outputs": [],
   "source": [
    "train2 = train2.drop(['year_graduated', 'job_rotation', 'sick_leaves', 'gender', 'number_of_dependences', 'branch_rotation', 'sick_leaves', 'Achievement_above_100%_during3quartal', 'job_duration_from_training', 'job_rotation', 'assign_of_otherposition'], axis=1)"
   ]
  },
  {
   "cell_type": "code",
   "execution_count": 405,
   "metadata": {
    "collapsed": true
   },
   "outputs": [],
   "source": [
    "train2 = train2.drop(['job_rotation', 'sick_leaves', 'job_duration_from_training', 'assign_of_otherposition', 'branch_rotation', 'Achievement_above_100%_during3quartal', 'number_of_dependences', 'gender'], axis=1)"
   ]
  },
  {
   "cell_type": "code",
   "execution_count": 387,
   "metadata": {},
   "outputs": [
    {
     "data": {
      "text/plain": [
       "job_duration_in_current_job_level       float64\n",
       "job_duration_in_current_person_level    float64\n",
       "job_duration_in_current_branch          float64\n",
       "age                                       int64\n",
       "GPA                                     float64\n",
       "annual leave                              int64\n",
       "Last_achievement_%                      float64\n",
       "Best Performance                          int64\n",
       "dtype: object"
      ]
     },
     "execution_count": 387,
     "metadata": {},
     "output_type": "execute_result"
    }
   ],
   "source": [
    "train2.dtypes"
   ]
  },
  {
   "cell_type": "code",
   "execution_count": 418,
   "metadata": {},
   "outputs": [],
   "source": [
    "from sklearn.model_selection import train_test_split\n",
    "RSEED = 20\n",
    "\n",
    "\n",
    "# Extract the labels\n",
    "labels = np.array(train2.pop('Best Performance'))\n",
    "\n",
    "# 30% examples in test data\n",
    "dtrain, dtest, train_labels, test_labels = train_test_split(train2, labels, \n",
    "                                                          stratify = labels,\n",
    "                                                          test_size = 0.2, \n",
    "                                                          random_state = RSEED, \n",
    "                                                          shuffle=True)"
   ]
  },
  {
   "cell_type": "code",
   "execution_count": 376,
   "metadata": {},
   "outputs": [],
   "source": [
    "from imblearn.over_sampling import SMOTE\n",
    "\n",
    "oversample = SMOTE()\n",
    "dtrain, train_labels = oversample.fit_resample(dtrain, train_labels)"
   ]
  },
  {
   "cell_type": "code",
   "execution_count": 246,
   "metadata": {},
   "outputs": [
    {
     "data": {
      "text/plain": [
       "job_duration_in_current_job_level        float64\n",
       "job_duration_in_current_person_level     float64\n",
       "job_duration_in_current_branch           float64\n",
       "gender                                     int64\n",
       "age                                        int64\n",
       "number_of_dependences                      int64\n",
       "GPA                                      float64\n",
       "year_graduated                             int64\n",
       "job_duration_from_training                 int64\n",
       "branch_rotation                            int64\n",
       "job_rotation                               int64\n",
       "assign_of_otherposition                    int64\n",
       "annual leave                               int64\n",
       "sick_leaves                                int64\n",
       "Last_achievement_%                       float64\n",
       "Achievement_above_100%_during3quartal    float64\n",
       "job_level_0                                uint8\n",
       "job_level_1                                uint8\n",
       "job_level_2                                uint8\n",
       "person_level_0                             uint8\n",
       "person_level_1                             uint8\n",
       "person_level_2                             uint8\n",
       "person_level_3                             uint8\n",
       "person_level_4                             uint8\n",
       "person_level_5                             uint8\n",
       "person_level_6                             uint8\n",
       "person_level_7                             uint8\n",
       "Employee_type_0                            uint8\n",
       "Employee_type_1                            uint8\n",
       "Employee_type_2                            uint8\n",
       "marital_status_maried(Y/N)_0               uint8\n",
       "marital_status_maried(Y/N)_1               uint8\n",
       "Education_level_0                          uint8\n",
       "Education_level_1                          uint8\n",
       "Education_level_2                          uint8\n",
       "Education_level_3                          uint8\n",
       "Education_level_4                          uint8\n",
       "Education_level_5                          uint8\n",
       "dtype: object"
      ]
     },
     "execution_count": 246,
     "metadata": {},
     "output_type": "execute_result"
    }
   ],
   "source": [
    "dtrain.dtypes"
   ]
  },
  {
   "cell_type": "code",
   "execution_count": 72,
   "metadata": {},
   "outputs": [
    {
     "data": {
      "text/plain": [
       "job_duration_in_current_job_level        float64\n",
       "job_duration_in_current_person_level     float64\n",
       "job_duration_in_current_branch           float64\n",
       "gender                                     int64\n",
       "age                                        int64\n",
       "number_of_dependences                      int64\n",
       "GPA                                      float64\n",
       "year_graduated                             int64\n",
       "job_duration_from_training                 int64\n",
       "branch_rotation                            int64\n",
       "job_rotation                               int64\n",
       "assign_of_otherposition                    int64\n",
       "annual leave                               int64\n",
       "sick_leaves                                int64\n",
       "Last_achievement_%                       float64\n",
       "Achievement_above_100%_during3quartal    float64\n",
       "job_level_0                                uint8\n",
       "job_level_1                                uint8\n",
       "job_level_2                                uint8\n",
       "person_level_0                             uint8\n",
       "person_level_1                             uint8\n",
       "person_level_2                             uint8\n",
       "person_level_3                             uint8\n",
       "person_level_4                             uint8\n",
       "person_level_5                             uint8\n",
       "person_level_6                             uint8\n",
       "person_level_7                             uint8\n",
       "Employee_type_0                            uint8\n",
       "Employee_type_1                            uint8\n",
       "Employee_type_2                            uint8\n",
       "marital_status_maried(Y/N)_0               uint8\n",
       "marital_status_maried(Y/N)_1               uint8\n",
       "Education_level_0                          uint8\n",
       "Education_level_1                          uint8\n",
       "Education_level_2                          uint8\n",
       "Education_level_3                          uint8\n",
       "Education_level_4                          uint8\n",
       "Education_level_5                          uint8\n",
       "dtype: object"
      ]
     },
     "execution_count": 72,
     "metadata": {},
     "output_type": "execute_result"
    }
   ],
   "source": [
    "dtest.dtypes"
   ]
  },
  {
   "cell_type": "code",
   "execution_count": 247,
   "metadata": {},
   "outputs": [],
   "source": [
    "import xgboost as xgb\n",
    "from xgboost import XGBClassifier\n",
    "from sklearn.model_selection import GridSearchCV, cross_validate\n",
    "from sklearn.metrics import accuracy_score, roc_auc_score\n",
    "from sklearn.metrics import confusion_matrix\n",
    "\n",
    "\n",
    "import matplotlib.pylab as plt\n",
    "%matplotlib inline\n",
    "from matplotlib.pylab import rcParams\n",
    "rcParams['figure.figsize'] = 12, 4"
   ]
  },
  {
   "cell_type": "code",
   "execution_count": 448,
   "metadata": {
    "collapsed": true
   },
   "outputs": [],
   "source": [
    "def model(alg, dtrain, dtest, train_labels, test_labels, useTrainCV=True, cv_folds=5, early_stopping_rounds=50):\n",
    "    if useTrainCV:\n",
    "        xgb_param = alg.get_xgb_params()\n",
    "        xgtrain = xgb.DMatrix(np.asmatrix(dtrain), label=train_labels)\n",
    "        xgtest = xgb.DMatrix(np.asmatrix(dtest), label=test_labels)\n",
    "        cvresult = xgb.cv(xgb_param, \n",
    "                          xgtrain, \n",
    "                          num_boost_round=alg.get_params()['n_estimators'], \n",
    "                                                         nfold=cv_folds, \n",
    "                                                         metrics='auc', \n",
    "                                                         early_stopping_rounds=early_stopping_rounds)\n",
    "        alg.set_params(n_estimators=cvresult.shape[0])\n",
    "    \n",
    "#   Fit the algorithm on the data\n",
    "    alg.fit(dtrain, train_labels, eval_metric='auc')\n",
    "    \n",
    "#   Predict training set                     \n",
    "    dtrain_pred = alg.predict(dtrain)\n",
    "    dtrain_pred_proba = alg.predict_proba(dtrain)[:, 1]\n",
    "    \n",
    "#   Model report\n",
    "    print('\\nModel Report')\n",
    "    print('Accuracy : ', accuracy_score(train_labels, dtrain_pred))\n",
    "    print('AUC Score (Train) : ', roc_auc_score(train_labels, dtrain_pred_proba))\n",
    "    cm = confusion_matrix(train_labels, dtrain_pred)\n",
    "    print('Confusion Matrix : \\n', cm)\n",
    "    \n",
    "    \n",
    "#   Predict test set\n",
    "    dtest_pred = alg.predict(dtest)\n",
    "    dtest_pred_proba = alg.predict_proba(dtest)[:, 1]\n",
    "    print('AUC Score (Test) : ', roc_auc_score(test_labels, dtest_pred_proba))\n",
    "    cm = confusion_matrix(test_labels, dtest_pred)\n",
    "    print('Confusion Matrix : \\n', cm)\n",
    "    \n",
    "    \n",
    "    feat_imp = pd.Series(alg.get_booster().get_fscore()).sort_values(ascending=False)\n",
    "    feat_imp.plot(kind='bar', title='Feature Importances')\n",
    "    plt.ylabel('Feature Importance Score')"
   ]
  },
  {
   "cell_type": "code",
   "execution_count": 449,
   "metadata": {
    "scrolled": false
   },
   "outputs": [
    {
     "name": "stderr",
     "output_type": "stream",
     "text": [
      "C:\\Python37\\lib\\site-packages\\xgboost\\sklearn.py:888: UserWarning: The use of label encoder in XGBClassifier is deprecated and will be removed in a future release. To remove this warning, do the following: 1) Pass option use_label_encoder=False when constructing XGBClassifier object; and 2) Encode your labels (y) as integers starting with 0, i.e. 0, 1, 2, ..., [num_class - 1].\n",
      "  warnings.warn(label_encoder_deprecation_msg, UserWarning)\n"
     ]
    },
    {
     "name": "stdout",
     "output_type": "stream",
     "text": [
      "\n",
      "Model Report\n",
      "Accuracy :  0.856646491817978\n",
      "AUC Score (Train) :  0.8278867637679358\n",
      "Confusion Matrix : \n",
      " [[7612    0]\n",
      " [1279   31]]\n",
      "AUC Score (Test) :  0.6116320381363555\n",
      "Confusion Matrix : \n",
      " [[1903    1]\n",
      " [ 327    0]]\n"
     ]
    },
    {
     "data": {
      "image/png": "[encoded data removed]",
      "text/plain": [
       "<Figure size 864x288 with 1 Axes>"
      ]
     },
     "metadata": {
      "needs_background": "light"
     },
     "output_type": "display_data"
    }
   ],
   "source": [
    "xgb1 = XGBClassifier(learning_rate=0.1,\n",
    "                    max_depth=8,\n",
    "                    min_child_weight=1,\n",
    "                    gamma=0,\n",
    "                    subsample=0.8,\n",
    "                    colsample_bytree=0.8,\n",
    "                    objective='binary:logistic',\n",
    "                    nthread=4,\n",
    "                    scale_pos_weight=1,\n",
    "                    seed=27)\n",
    "model(xgb1, dtrain, dtest, train_labels, test_labels)"
   ]
  },
  {
   "cell_type": "code",
   "execution_count": 451,
   "metadata": {},
   "outputs": [
    {
     "name": "stderr",
     "output_type": "stream",
     "text": [
      "C:\\Python37\\lib\\site-packages\\xgboost\\sklearn.py:888: UserWarning: The use of label encoder in XGBClassifier is deprecated and will be removed in a future release. To remove this warning, do the following: 1) Pass option use_label_encoder=False when constructing XGBClassifier object; and 2) Encode your labels (y) as integers starting with 0, i.e. 0, 1, 2, ..., [num_class - 1].\n",
      "  warnings.warn(label_encoder_deprecation_msg, UserWarning)\n"
     ]
    },
    {
     "name": "stdout",
     "output_type": "stream",
     "text": [
      "\n",
      "Model Report\n",
      "Accuracy :  0.8591123066577001\n",
      "AUC Score (Train) :  0.8402487735315473\n",
      "Confusion Matrix : \n",
      " [[7612    0]\n",
      " [1257   53]]\n",
      "AUC Score (Test) :  0.6139537236913114\n",
      "Confusion Matrix : \n",
      " [[1903    1]\n",
      " [ 326    1]]\n"
     ]
    },
    {
     "data": {
      "image/png": "[encoded data removed]",
      "text/plain": [
       "<Figure size 864x288 with 1 Axes>"
      ]
     },
     "metadata": {
      "needs_background": "light"
     },
     "output_type": "display_data"
    }
   ],
   "source": [
    "xgb3 = XGBClassifier(learning_rate=0.1,\n",
    "                    max_depth=8,\n",
    "                    min_child_weight=0,\n",
    "                    gamma=0,\n",
    "                    subsample=0.8,\n",
    "                    colsample_bytree=0.8,\n",
    "                    objective='binary:logistic',\n",
    "                    nthread=4,\n",
    "                    scale_pos_weight=1,\n",
    "                    seed=27)\n",
    "model(xgb3, dtrain, dtest, train_labels, test_labels)"
   ]
  },
  {
   "cell_type": "code",
   "execution_count": 452,
   "metadata": {
    "collapsed": true
   },
   "outputs": [],
   "source": [
    "import joblib"
   ]
  },
  {
   "cell_type": "code",
   "execution_count": 458,
   "metadata": {},
   "outputs": [
    {
     "data": {
      "text/plain": [
       "['xgb_model.sav']"
      ]
     },
     "execution_count": 458,
     "metadata": {},
     "output_type": "execute_result"
    }
   ],
   "source": [
    "# save the model to disk\n",
    "filename = 'xgb_model.sav'\n",
    "joblib.dump(xgb3, filename)"
   ]
  },
  {
   "cell_type": "code",
   "execution_count": 303,
   "metadata": {},
   "outputs": [
    {
     "name": "stderr",
     "output_type": "stream",
     "text": [
      "C:\\Python37\\lib\\site-packages\\sklearn\\model_selection\\_search.py:849: FutureWarning: The parameter 'iid' is deprecated in 0.22 and will be removed in 0.24.\n",
      "  \"removed in 0.24.\", FutureWarning\n",
      "C:\\Python37\\lib\\site-packages\\xgboost\\sklearn.py:888: UserWarning: The use of label encoder in XGBClassifier is deprecated and will be removed in a future release. To remove this warning, do the following: 1) Pass option use_label_encoder=False when constructing XGBClassifier object; and 2) Encode your labels (y) as integers starting with 0, i.e. 0, 1, 2, ..., [num_class - 1].\n",
      "  warnings.warn(label_encoder_deprecation_msg, UserWarning)\n"
     ]
    },
    {
     "name": "stdout",
     "output_type": "stream",
     "text": [
      "[21:14:21] WARNING: C:/Users/Administrator/workspace/xgboost-win64_release_1.3.0/src/learner.cc:1061: Starting in XGBoost 1.3.0, the default evaluation metric used with the objective 'binary:logistic' was changed from 'error' to 'logloss'. Explicitly set eval_metric if you'd like to restore the old behavior.\n"
     ]
    },
    {
     "data": {
      "text/plain": [
       "GridSearchCV(cv=5,\n",
       "             estimator=XGBClassifier(base_score=None, booster=None,\n",
       "                                     colsample_bylevel=None,\n",
       "                                     colsample_bynode=None,\n",
       "                                     colsample_bytree=0.8, gamma=0, gpu_id=None,\n",
       "                                     importance_type='gain',\n",
       "                                     interaction_constraints=None,\n",
       "                                     learning_rate=0.1, max_delta_step=None,\n",
       "                                     max_depth=5, min_child_weight=1,\n",
       "                                     missing=nan, monotone_constraints=None,\n",
       "                                     n_estimators=100, n_jobs=None, nthread=4,\n",
       "                                     num_parallel_tree=None, random_state=None,\n",
       "                                     reg_alpha=None, reg_lambda=None,\n",
       "                                     scale_pos_weight=1, seed=27, subsample=0.8,\n",
       "                                     tree_method=None, validate_parameters=None,\n",
       "                                     verbosity=None),\n",
       "             iid=False, n_jobs=4,\n",
       "             param_grid={'max_depth': range(3, 10, 2),\n",
       "                         'min_child_weight': range(1, 6, 2)},\n",
       "             scoring='roc_auc')"
      ]
     },
     "execution_count": 303,
     "metadata": {},
     "output_type": "execute_result"
    }
   ],
   "source": [
    "from sklearn.model_selection import GridSearchCV\n",
    "\n",
    "param_test1 = {\n",
    "    'max_depth':range(3,10,2),\n",
    "    'min_child_weight':range(1,6,2)\n",
    "}\n",
    "gsearch1 = GridSearchCV(estimator = XGBClassifier(learning_rate=0.1,\n",
    "                                                  max_depth=5,\n",
    "                                                  min_child_weight=1, \n",
    "                                                  gamma=0, \n",
    "                                                  subsample=0.8, \n",
    "                                                  colsample_bytree=0.8,\n",
    "                                                  objective= 'binary:logistic', \n",
    "                                                  nthread=4, scale_pos_weight=1, seed=27),\n",
    "                        param_grid = param_test1, scoring='roc_auc',n_jobs=4, iid=False, cv=5)\n",
    "gsearch1.fit(dtrain, train_labels)"
   ]
  },
  {
   "cell_type": "code",
   "execution_count": 304,
   "metadata": {},
   "outputs": [
    {
     "data": {
      "text/plain": [
       "({'mean_fit_time': array([2.29605551, 2.05223145, 2.00959606, 3.20841484, 3.14795694,\n",
       "         3.08272939, 4.48878875, 4.35583687, 4.27994151, 6.06630769,\n",
       "         5.63429332, 4.92074661]),\n",
       "  'std_fit_time': array([0.11324138, 0.03306221, 0.02828352, 0.0585926 , 0.02435517,\n",
       "         0.08724728, 0.08429508, 0.13162769, 0.11120523, 0.18319109,\n",
       "         0.33098172, 0.51401216]),\n",
       "  'mean_score_time': array([0.01541495, 0.01841121, 0.01637182, 0.01735315, 0.01502523,\n",
       "         0.0153758 , 0.01697559, 0.01780233, 0.01796584, 0.01600981,\n",
       "         0.01678772, 0.01498775]),\n",
       "  'std_score_time': array([7.97545977e-04, 2.06435531e-03, 1.17959601e-03, 4.30547937e-03,\n",
       "         2.45580858e-05, 1.84492460e-03, 2.66629130e-03, 2.05520554e-03,\n",
       "         1.41071743e-03, 2.01015294e-03, 3.80553162e-03, 6.31888968e-04]),\n",
       "  'param_max_depth': masked_array(data=[3, 3, 3, 5, 5, 5, 7, 7, 7, 9, 9, 9],\n",
       "               mask=[False, False, False, False, False, False, False, False,\n",
       "                     False, False, False, False],\n",
       "         fill_value='?',\n",
       "              dtype=object),\n",
       "  'param_min_child_weight': masked_array(data=[1, 3, 5, 1, 3, 5, 1, 3, 5, 1, 3, 5],\n",
       "               mask=[False, False, False, False, False, False, False, False,\n",
       "                     False, False, False, False],\n",
       "         fill_value='?',\n",
       "              dtype=object),\n",
       "  'params': [{'max_depth': 3, 'min_child_weight': 1},\n",
       "   {'max_depth': 3, 'min_child_weight': 3},\n",
       "   {'max_depth': 3, 'min_child_weight': 5},\n",
       "   {'max_depth': 5, 'min_child_weight': 1},\n",
       "   {'max_depth': 5, 'min_child_weight': 3},\n",
       "   {'max_depth': 5, 'min_child_weight': 5},\n",
       "   {'max_depth': 7, 'min_child_weight': 1},\n",
       "   {'max_depth': 7, 'min_child_weight': 3},\n",
       "   {'max_depth': 7, 'min_child_weight': 5},\n",
       "   {'max_depth': 9, 'min_child_weight': 1},\n",
       "   {'max_depth': 9, 'min_child_weight': 3},\n",
       "   {'max_depth': 9, 'min_child_weight': 5}],\n",
       "  'split0_test_score': array([0.60816991, 0.60855882, 0.60330991, 0.63969938, 0.63380595,\n",
       "         0.63546082, 0.6675289 , 0.65928604, 0.64952895, 0.68685068,\n",
       "         0.6795073 , 0.67012553]),\n",
       "  'split1_test_score': array([0.98451988, 0.98415492, 0.98225501, 0.99561347, 0.99574678,\n",
       "         0.99552115, 0.99878128, 0.99871873, 0.99852805, 0.99961562,\n",
       "         0.99936497, 0.99922347]),\n",
       "  'split2_test_score': array([0.98718726, 0.98675758, 0.98713032, 0.99658241, 0.99646507,\n",
       "         0.99643702, 0.99883305, 0.99886584, 0.99851122, 0.99947886,\n",
       "         0.99926963, 0.99913201]),\n",
       "  'split3_test_score': array([0.98792971, 0.98751858, 0.98652894, 0.99642796, 0.99669673,\n",
       "         0.99628042, 0.99880242, 0.99871226, 0.99829638, 0.99938956,\n",
       "         0.99927653, 0.99904142]),\n",
       "  'split4_test_score': array([0.98304456, 0.98393363, 0.98284901, 0.99558167, 0.99504551,\n",
       "         0.99578715, 0.99835095, 0.99802934, 0.99781177, 0.99915303,\n",
       "         0.99903733, 0.99885646]),\n",
       "  'mean_test_score': array([0.91017027, 0.91018471, 0.90841464, 0.92478098, 0.92355201,\n",
       "         0.92389731, 0.93245932, 0.93072244, 0.92853527, 0.93689755,\n",
       "         0.93529115, 0.93327578]),\n",
       "  'std_test_score': array([0.15101053, 0.1508195 , 0.15256459, 0.14254139, 0.14487418,\n",
       "         0.14421862, 0.13246533, 0.13571851, 0.1395034 , 0.12502353,\n",
       "         0.12789197, 0.13157518]),\n",
       "  'rank_test_score': array([11, 10, 12,  7,  9,  8,  4,  5,  6,  1,  2,  3])},\n",
       " {'max_depth': 9, 'min_child_weight': 1},\n",
       " 0.9368975499551512)"
      ]
     },
     "execution_count": 304,
     "metadata": {},
     "output_type": "execute_result"
    }
   ],
   "source": [
    "gsearch1.cv_results_, gsearch1.best_params_, gsearch1.best_score_"
   ]
  },
  {
   "cell_type": "code",
   "execution_count": 306,
   "metadata": {},
   "outputs": [
    {
     "name": "stderr",
     "output_type": "stream",
     "text": [
      "C:\\Python37\\lib\\site-packages\\sklearn\\model_selection\\_search.py:849: FutureWarning: The parameter 'iid' is deprecated in 0.22 and will be removed in 0.24.\n",
      "  \"removed in 0.24.\", FutureWarning\n",
      "C:\\Python37\\lib\\site-packages\\xgboost\\sklearn.py:888: UserWarning: The use of label encoder in XGBClassifier is deprecated and will be removed in a future release. To remove this warning, do the following: 1) Pass option use_label_encoder=False when constructing XGBClassifier object; and 2) Encode your labels (y) as integers starting with 0, i.e. 0, 1, 2, ..., [num_class - 1].\n",
      "  warnings.warn(label_encoder_deprecation_msg, UserWarning)\n"
     ]
    },
    {
     "name": "stdout",
     "output_type": "stream",
     "text": [
      "[21:16:57] WARNING: C:/Users/Administrator/workspace/xgboost-win64_release_1.3.0/src/learner.cc:1061: Starting in XGBoost 1.3.0, the default evaluation metric used with the objective 'binary:logistic' was changed from 'error' to 'logloss'. Explicitly set eval_metric if you'd like to restore the old behavior.\n"
     ]
    },
    {
     "data": {
      "text/plain": [
       "GridSearchCV(cv=5,\n",
       "             estimator=XGBClassifier(base_score=None, booster=None,\n",
       "                                     colsample_bylevel=None,\n",
       "                                     colsample_bynode=None,\n",
       "                                     colsample_bytree=0.8, gamma=0, gpu_id=None,\n",
       "                                     importance_type='gain',\n",
       "                                     interaction_constraints=None,\n",
       "                                     learning_rate=0.1, max_delta_step=None,\n",
       "                                     max_depth=5, min_child_weight=1,\n",
       "                                     missing=nan, monotone_constraints=None,\n",
       "                                     n_estimators=140, n_jobs=None, nthread=4,\n",
       "                                     num_parallel_tree=None, random_state=None,\n",
       "                                     reg_alpha=None, reg_lambda=None,\n",
       "                                     scale_pos_weight=1, seed=27, subsample=0.8,\n",
       "                                     tree_method=None, validate_parameters=None,\n",
       "                                     verbosity=None),\n",
       "             iid=False, n_jobs=4,\n",
       "             param_grid={'max_depth': range(4, 5, 6),\n",
       "                         'min_child_weight': range(4, 5, 6)},\n",
       "             scoring='roc_auc')"
      ]
     },
     "execution_count": 306,
     "metadata": {},
     "output_type": "execute_result"
    }
   ],
   "source": [
    "param_test2 = {\n",
    "    'max_depth':range(4,5,6),\n",
    "    'min_child_weight':range(4,5,6)\n",
    "}\n",
    "gsearch2 = GridSearchCV(estimator = XGBClassifier(learning_rate=0.1, \n",
    "                                                  n_estimators=140,\n",
    "                                                  max_depth=5,\n",
    "                                                  min_child_weight=1, \n",
    "                                                  gamma=0, \n",
    "                                                  subsample=0.8, \n",
    "                                                  colsample_bytree=0.8,\n",
    "                                                  objective= 'binary:logistic', \n",
    "                                                  nthread=4, scale_pos_weight=1, seed=27),\n",
    "                        param_grid = param_test2, scoring='roc_auc',n_jobs=4, iid=False, cv=5)\n",
    "gsearch2.fit(dtrain, train_labels)"
   ]
  },
  {
   "cell_type": "code",
   "execution_count": 307,
   "metadata": {},
   "outputs": [
    {
     "data": {
      "text/plain": [
       "({'mean_fit_time': array([3.11108088]),\n",
       "  'std_fit_time': array([0.92955934]),\n",
       "  'mean_score_time': array([0.01795712]),\n",
       "  'std_score_time': array([0.00467124]),\n",
       "  'param_max_depth': masked_array(data=[4],\n",
       "               mask=[False],\n",
       "         fill_value='?',\n",
       "              dtype=object),\n",
       "  'param_min_child_weight': masked_array(data=[4],\n",
       "               mask=[False],\n",
       "         fill_value='?',\n",
       "              dtype=object),\n",
       "  'params': [{'max_depth': 4, 'min_child_weight': 4}],\n",
       "  'split0_test_score': array([0.62545114]),\n",
       "  'split1_test_score': array([0.99532443]),\n",
       "  'split2_test_score': array([0.99623469]),\n",
       "  'split3_test_score': array([0.99570967]),\n",
       "  'split4_test_score': array([0.99436128]),\n",
       "  'mean_test_score': array([0.92141624]),\n",
       "  'std_test_score': array([0.14798382]),\n",
       "  'rank_test_score': array([1])},\n",
       " {'max_depth': 4, 'min_child_weight': 4},\n",
       " 0.9214162446405421)"
      ]
     },
     "execution_count": 307,
     "metadata": {},
     "output_type": "execute_result"
    }
   ],
   "source": [
    "gsearch2.cv_results_, gsearch2.best_params_, gsearch2.best_score_"
   ]
  },
  {
   "cell_type": "code",
   "execution_count": 172,
   "metadata": {},
   "outputs": [
    {
     "name": "stderr",
     "output_type": "stream",
     "text": [
      "C:\\Python37\\lib\\site-packages\\sklearn\\model_selection\\_search.py:849: FutureWarning: The parameter 'iid' is deprecated in 0.22 and will be removed in 0.24.\n",
      "  \"removed in 0.24.\", FutureWarning\n",
      "C:\\Python37\\lib\\site-packages\\xgboost\\sklearn.py:888: UserWarning: The use of label encoder in XGBClassifier is deprecated and will be removed in a future release. To remove this warning, do the following: 1) Pass option use_label_encoder=False when constructing XGBClassifier object; and 2) Encode your labels (y) as integers starting with 0, i.e. 0, 1, 2, ..., [num_class - 1].\n",
      "  warnings.warn(label_encoder_deprecation_msg, UserWarning)\n"
     ]
    },
    {
     "name": "stdout",
     "output_type": "stream",
     "text": [
      "[19:59:54] WARNING: C:/Users/Administrator/workspace/xgboost-win64_release_1.3.0/src/learner.cc:1061: Starting in XGBoost 1.3.0, the default evaluation metric used with the objective 'binary:logistic' was changed from 'error' to 'logloss'. Explicitly set eval_metric if you'd like to restore the old behavior.\n"
     ]
    },
    {
     "data": {
      "text/plain": [
       "GridSearchCV(cv=5,\n",
       "             estimator=XGBClassifier(base_score=None, booster=None,\n",
       "                                     colsample_bylevel=None,\n",
       "                                     colsample_bynode=None,\n",
       "                                     colsample_bytree=0.8, gamma=0, gpu_id=None,\n",
       "                                     importance_type='gain',\n",
       "                                     interaction_constraints=None,\n",
       "                                     learning_rate=0.1, max_delta_step=None,\n",
       "                                     max_depth=5, min_child_weight=1,\n",
       "                                     missing=nan, monotone_constraints=None,\n",
       "                                     n_estimators=140, n_jobs=None, nthread=4,\n",
       "                                     num_parallel_tree=None, random_state=None,\n",
       "                                     reg_alpha=None, reg_lambda=None,\n",
       "                                     scale_pos_weight=1, seed=27, subsample=0.8,\n",
       "                                     tree_method=None, validate_parameters=None,\n",
       "                                     verbosity=None),\n",
       "             iid=False, n_jobs=4,\n",
       "             param_grid={'min_child_weight': [6, 8, 10, 12]},\n",
       "             scoring='roc_auc')"
      ]
     },
     "execution_count": 172,
     "metadata": {},
     "output_type": "execute_result"
    }
   ],
   "source": [
    "param_test2b = {\n",
    "    'min_child_weight':[6,8,10,12]\n",
    "}\n",
    "gsearch2b = GridSearchCV(estimator = XGBClassifier(learning_rate=0.1, \n",
    "                                                  n_estimators=140,\n",
    "                                                  max_depth=5,\n",
    "                                                  min_child_weight=1, \n",
    "                                                  gamma=0, \n",
    "                                                  subsample=0.8, \n",
    "                                                  colsample_bytree=0.8,\n",
    "                                                  objective= 'binary:logistic', \n",
    "                                                  nthread=4, scale_pos_weight=1, seed=27),\n",
    "                        param_grid = param_test2b, scoring='roc_auc',n_jobs=4, iid=False, cv=5)\n",
    "gsearch2b.fit(dtrain, train_labels)"
   ]
  },
  {
   "cell_type": "code",
   "execution_count": 173,
   "metadata": {},
   "outputs": [
    {
     "data": {
      "text/plain": [
       "({'mean_fit_time': array([2.40841784, 2.37984209, 2.28129187, 2.33887749]),\n",
       "  'std_fit_time': array([0.04814474, 0.00955207, 0.03532113, 0.05253601]),\n",
       "  'mean_score_time': array([0.02204885, 0.02100821, 0.01740723, 0.01492429]),\n",
       "  'std_score_time': array([0.00540672, 0.00625026, 0.00321269, 0.0021311 ]),\n",
       "  'param_min_child_weight': masked_array(data=[6, 8, 10, 12],\n",
       "               mask=[False, False, False, False],\n",
       "         fill_value='?',\n",
       "              dtype=object),\n",
       "  'params': [{'min_child_weight': 6},\n",
       "   {'min_child_weight': 8},\n",
       "   {'min_child_weight': 10},\n",
       "   {'min_child_weight': 12}],\n",
       "  'split0_test_score': array([0.57214028, 0.57329217, 0.5665066 , 0.57176013]),\n",
       "  'split1_test_score': array([0.55042417, 0.55267746, 0.55640066, 0.54908814]),\n",
       "  'split2_test_score': array([0.55388529, 0.5706924 , 0.56975519, 0.56710878]),\n",
       "  'split3_test_score': array([0.5562155 , 0.55752873, 0.55172885, 0.55877644]),\n",
       "  'split4_test_score': array([0.56272757, 0.57304463, 0.56258742, 0.56365145]),\n",
       "  'mean_test_score': array([0.55907856, 0.56544708, 0.56139574, 0.56207699]),\n",
       "  'std_test_score': array([0.00766798, 0.00863186, 0.00656995, 0.00776099]),\n",
       "  'rank_test_score': array([4, 1, 3, 2])},\n",
       " {'min_child_weight': 8},\n",
       " 0.5654470781522212)"
      ]
     },
     "execution_count": 173,
     "metadata": {},
     "output_type": "execute_result"
    }
   ],
   "source": [
    "gsearch2b.cv_results_, gsearch2b.best_params_, gsearch2b.best_score_"
   ]
  },
  {
   "cell_type": "code",
   "execution_count": 174,
   "metadata": {},
   "outputs": [
    {
     "name": "stderr",
     "output_type": "stream",
     "text": [
      "C:\\Python37\\lib\\site-packages\\sklearn\\model_selection\\_search.py:849: FutureWarning: The parameter 'iid' is deprecated in 0.22 and will be removed in 0.24.\n",
      "  \"removed in 0.24.\", FutureWarning\n",
      "C:\\Python37\\lib\\site-packages\\xgboost\\sklearn.py:888: UserWarning: The use of label encoder in XGBClassifier is deprecated and will be removed in a future release. To remove this warning, do the following: 1) Pass option use_label_encoder=False when constructing XGBClassifier object; and 2) Encode your labels (y) as integers starting with 0, i.e. 0, 1, 2, ..., [num_class - 1].\n",
      "  warnings.warn(label_encoder_deprecation_msg, UserWarning)\n"
     ]
    },
    {
     "name": "stdout",
     "output_type": "stream",
     "text": [
      "[20:04:18] WARNING: C:/Users/Administrator/workspace/xgboost-win64_release_1.3.0/src/learner.cc:1061: Starting in XGBoost 1.3.0, the default evaluation metric used with the objective 'binary:logistic' was changed from 'error' to 'logloss'. Explicitly set eval_metric if you'd like to restore the old behavior.\n"
     ]
    },
    {
     "data": {
      "text/plain": [
       "GridSearchCV(cv=5,\n",
       "             estimator=XGBClassifier(base_score=None, booster=None,\n",
       "                                     colsample_bylevel=None,\n",
       "                                     colsample_bynode=None,\n",
       "                                     colsample_bytree=0.8, gamma=0, gpu_id=None,\n",
       "                                     importance_type='gain',\n",
       "                                     interaction_constraints=None,\n",
       "                                     learning_rate=0.1, max_delta_step=None,\n",
       "                                     max_depth=5, min_child_weight=1,\n",
       "                                     missing=nan, monotone_constraints=None,\n",
       "                                     n_estimators=140, n_jobs=None, nthread=4,\n",
       "                                     num_parallel_tree=None, random_state=None,\n",
       "                                     reg_alpha=None, reg_lambda=None,\n",
       "                                     scale_pos_weight=1, seed=27, subsample=0.8,\n",
       "                                     tree_method=None, validate_parameters=None,\n",
       "                                     verbosity=None),\n",
       "             iid=False, n_jobs=4,\n",
       "             param_grid={'gamma': [0.0, 0.1, 0.2, 0.3, 0.4]},\n",
       "             scoring='roc_auc')"
      ]
     },
     "execution_count": 174,
     "metadata": {},
     "output_type": "execute_result"
    }
   ],
   "source": [
    "param_test3 = {\n",
    "    'gamma':[i/10.0 for i in range(0,5)]\n",
    "}\n",
    "gsearch3 = GridSearchCV(estimator = XGBClassifier(learning_rate=0.1, \n",
    "                                                  n_estimators=140,\n",
    "                                                  max_depth=5,\n",
    "                                                  min_child_weight=1, \n",
    "                                                  gamma=0, \n",
    "                                                  subsample=0.8, \n",
    "                                                  colsample_bytree=0.8,\n",
    "                                                  objective= 'binary:logistic', \n",
    "                                                  nthread=4, scale_pos_weight=1, seed=27),\n",
    "                        param_grid = param_test3, scoring='roc_auc',n_jobs=4, iid=False, cv=5)\n",
    "gsearch3.fit(dtrain, train_labels)"
   ]
  },
  {
   "cell_type": "code",
   "execution_count": 175,
   "metadata": {},
   "outputs": [
    {
     "data": {
      "text/plain": [
       "({'mean_fit_time': array([2.3462379 , 2.41700339, 2.35449739, 2.3243279 , 2.04364505]),\n",
       "  'std_fit_time': array([0.06820381, 0.06174122, 0.0511193 , 0.01193394, 0.53143562]),\n",
       "  'mean_score_time': array([0.01756058, 0.01752062, 0.0153729 , 0.02039824, 0.01490316]),\n",
       "  'std_score_time': array([0.0040595 , 0.00227312, 0.00118042, 0.00668292, 0.00329489]),\n",
       "  'param_gamma': masked_array(data=[0.0, 0.1, 0.2, 0.3, 0.4],\n",
       "               mask=[False, False, False, False, False],\n",
       "         fill_value='?',\n",
       "              dtype=object),\n",
       "  'params': [{'gamma': 0.0},\n",
       "   {'gamma': 0.1},\n",
       "   {'gamma': 0.2},\n",
       "   {'gamma': 0.3},\n",
       "   {'gamma': 0.4}],\n",
       "  'split0_test_score': array([0.5759561 , 0.56747842, 0.56558623, 0.57089407, 0.57259189]),\n",
       "  'split1_test_score': array([0.54477812, 0.54893716, 0.54841586, 0.54974903, 0.55100529]),\n",
       "  'split2_test_score': array([0.57210818, 0.57294854, 0.56431139, 0.57219364, 0.5708975 ]),\n",
       "  'split3_test_score': array([0.55556315, 0.55707009, 0.56244267, 0.5524752 , 0.55923508]),\n",
       "  'split4_test_score': array([0.55803098, 0.55515925, 0.56109435, 0.54976474, 0.55865166]),\n",
       "  'mean_test_score': array([0.5612873 , 0.56031869, 0.5603701 , 0.55901534, 0.56247628]),\n",
       "  'std_test_score': array([0.01138585, 0.00868893, 0.00617197, 0.01028575, 0.00812354]),\n",
       "  'rank_test_score': array([2, 4, 3, 5, 1])},\n",
       " {'gamma': 0.4},\n",
       " 0.5624762846251774)"
      ]
     },
     "execution_count": 175,
     "metadata": {},
     "output_type": "execute_result"
    }
   ],
   "source": [
    "gsearch3.cv_results_, gsearch3.best_params_, gsearch3.best_score_"
   ]
  },
  {
   "cell_type": "code",
   "execution_count": 308,
   "metadata": {},
   "outputs": [
    {
     "name": "stderr",
     "output_type": "stream",
     "text": [
      "C:\\Python37\\lib\\site-packages\\sklearn\\model_selection\\_search.py:849: FutureWarning: The parameter 'iid' is deprecated in 0.22 and will be removed in 0.24.\n",
      "  \"removed in 0.24.\", FutureWarning\n",
      "C:\\Python37\\lib\\site-packages\\xgboost\\sklearn.py:888: UserWarning: The use of label encoder in XGBClassifier is deprecated and will be removed in a future release. To remove this warning, do the following: 1) Pass option use_label_encoder=False when constructing XGBClassifier object; and 2) Encode your labels (y) as integers starting with 0, i.e. 0, 1, 2, ..., [num_class - 1].\n",
      "  warnings.warn(label_encoder_deprecation_msg, UserWarning)\n"
     ]
    },
    {
     "name": "stdout",
     "output_type": "stream",
     "text": [
      "[21:19:32] WARNING: C:/Users/Administrator/workspace/xgboost-win64_release_1.3.0/src/learner.cc:1061: Starting in XGBoost 1.3.0, the default evaluation metric used with the objective 'binary:logistic' was changed from 'error' to 'logloss'. Explicitly set eval_metric if you'd like to restore the old behavior.\n"
     ]
    },
    {
     "data": {
      "text/plain": [
       "GridSearchCV(cv=5,\n",
       "             estimator=XGBClassifier(base_score=None, booster=None,\n",
       "                                     colsample_bylevel=None,\n",
       "                                     colsample_bynode=None,\n",
       "                                     colsample_bytree=0.8, gamma=0, gpu_id=None,\n",
       "                                     importance_type='gain',\n",
       "                                     interaction_constraints=None,\n",
       "                                     learning_rate=0.1, max_delta_step=None,\n",
       "                                     max_depth=5, min_child_weight=1,\n",
       "                                     missing=nan, monotone_constraints=None,\n",
       "                                     n_estimators=100, n_jobs=None, nthread=4,\n",
       "                                     num_parallel_tree=None, random_state=None,\n",
       "                                     reg_alpha=None, reg_lambda=None,\n",
       "                                     scale_pos_weight=1, seed=27, subsample=0.8,\n",
       "                                     tree_method=None, validate_parameters=None,\n",
       "                                     verbosity=None),\n",
       "             iid=False, n_jobs=4,\n",
       "             param_grid={'max_depth': [1, 2, 3, 4, 5, 6, 7]},\n",
       "             scoring='roc_auc')"
      ]
     },
     "execution_count": 308,
     "metadata": {},
     "output_type": "execute_result"
    }
   ],
   "source": [
    "param_test4 = {\n",
    "    'max_depth':[1,2,3,4,5,6,7]\n",
    "}\n",
    "gsearch4 = GridSearchCV(estimator = XGBClassifier(learning_rate=0.1,\n",
    "                                                  max_depth=5,\n",
    "                                                  min_child_weight=1, \n",
    "                                                  gamma=0, \n",
    "                                                  subsample=0.8, \n",
    "                                                  colsample_bytree=0.8,\n",
    "                                                  objective= 'binary:logistic', \n",
    "                                                  nthread=4, scale_pos_weight=1, seed=27),\n",
    "                        param_grid = param_test4, scoring='roc_auc',n_jobs=4, iid=False, cv=5)\n",
    "gsearch4.fit(dtrain, train_labels)"
   ]
  },
  {
   "cell_type": "code",
   "execution_count": 309,
   "metadata": {},
   "outputs": [
    {
     "data": {
      "text/plain": [
       "({'mean_fit_time': array([1.03764334, 1.56936755, 2.05114317, 2.59765453, 3.25646358,\n",
       "         3.78986936, 3.93314524]),\n",
       "  'std_fit_time': array([0.0163205 , 0.03357017, 0.04073712, 0.0363269 , 0.06360808,\n",
       "         0.06797922, 0.54249968]),\n",
       "  'mean_score_time': array([0.01500778, 0.01702805, 0.01441021, 0.01416245, 0.01657562,\n",
       "         0.01515956, 0.01520162]),\n",
       "  'std_score_time': array([1.94286421e-05, 2.42919030e-03, 8.34767606e-04, 3.47810398e-03,\n",
       "         1.88565290e-03, 7.46110796e-04, 2.64872251e-03]),\n",
       "  'param_max_depth': masked_array(data=[1, 2, 3, 4, 5, 6, 7],\n",
       "               mask=[False, False, False, False, False, False, False],\n",
       "         fill_value='?',\n",
       "              dtype=object),\n",
       "  'params': [{'max_depth': 1},\n",
       "   {'max_depth': 2},\n",
       "   {'max_depth': 3},\n",
       "   {'max_depth': 4},\n",
       "   {'max_depth': 5},\n",
       "   {'max_depth': 6},\n",
       "   {'max_depth': 7}],\n",
       "  'split0_test_score': array([0.58964213, 0.59826722, 0.60816991, 0.62075681, 0.63969938,\n",
       "         0.65569546, 0.6675289 ]),\n",
       "  'split1_test_score': array([0.88629645, 0.95848134, 0.98451988, 0.99251555, 0.99561347,\n",
       "         0.9979409 , 0.99878128]),\n",
       "  'split2_test_score': array([0.88533162, 0.9592542 , 0.98718726, 0.99311952, 0.99658241,\n",
       "         0.99826834, 0.99883305]),\n",
       "  'split3_test_score': array([0.8956381 , 0.96124686, 0.98792971, 0.99439216, 0.99642796,\n",
       "         0.99798577, 0.99880242]),\n",
       "  'split4_test_score': array([0.89229302, 0.95664226, 0.98304456, 0.99024384, 0.99558167,\n",
       "         0.99705977, 0.99835095]),\n",
       "  'mean_test_score': array([0.82984027, 0.88677838, 0.91017027, 0.91820557, 0.92478098,\n",
       "         0.92939005, 0.93245932]),\n",
       "  'std_test_score': array([0.12015942, 0.14426314, 0.15101053, 0.14873046, 0.14254139,\n",
       "         0.1368479 , 0.13246533]),\n",
       "  'rank_test_score': array([7, 6, 5, 4, 3, 2, 1])},\n",
       " {'max_depth': 7},\n",
       " 0.9324593197899012)"
      ]
     },
     "execution_count": 309,
     "metadata": {},
     "output_type": "execute_result"
    }
   ],
   "source": [
    "gsearch4.cv_results_, gsearch4.best_params_, gsearch4.best_score_"
   ]
  },
  {
   "cell_type": "code",
   "execution_count": 200,
   "metadata": {},
   "outputs": [
    {
     "name": "stderr",
     "output_type": "stream",
     "text": [
      "C:\\Python37\\lib\\site-packages\\sklearn\\model_selection\\_search.py:849: FutureWarning: The parameter 'iid' is deprecated in 0.22 and will be removed in 0.24.\n",
      "  \"removed in 0.24.\", FutureWarning\n",
      "C:\\Python37\\lib\\site-packages\\xgboost\\sklearn.py:888: UserWarning: The use of label encoder in XGBClassifier is deprecated and will be removed in a future release. To remove this warning, do the following: 1) Pass option use_label_encoder=False when constructing XGBClassifier object; and 2) Encode your labels (y) as integers starting with 0, i.e. 0, 1, 2, ..., [num_class - 1].\n",
      "  warnings.warn(label_encoder_deprecation_msg, UserWarning)\n"
     ]
    },
    {
     "name": "stdout",
     "output_type": "stream",
     "text": [
      "[20:19:51] WARNING: C:/Users/Administrator/workspace/xgboost-win64_release_1.3.0/src/learner.cc:1061: Starting in XGBoost 1.3.0, the default evaluation metric used with the objective 'binary:logistic' was changed from 'error' to 'logloss'. Explicitly set eval_metric if you'd like to restore the old behavior.\n"
     ]
    },
    {
     "data": {
      "text/plain": [
       "GridSearchCV(cv=5,\n",
       "             estimator=XGBClassifier(base_score=None, booster=None,\n",
       "                                     colsample_bylevel=None,\n",
       "                                     colsample_bynode=None,\n",
       "                                     colsample_bytree=0.8, gamma=0, gpu_id=None,\n",
       "                                     importance_type='gain',\n",
       "                                     interaction_constraints=None,\n",
       "                                     learning_rate=0.1, max_delta_step=None,\n",
       "                                     max_depth=6, min_child_weight=1,\n",
       "                                     missing=nan, monotone_constraints=None,\n",
       "                                     n_estimators=100, n_jobs=None, nthread=4,\n",
       "                                     num_parallel_tree=None, random_state=None,\n",
       "                                     reg_alpha=None, reg_lambda=None,\n",
       "                                     scale_pos_weight=1, seed=27, subsample=0.8,\n",
       "                                     tree_method=None, validate_parameters=None,\n",
       "                                     verbosity=None),\n",
       "             iid=False, n_jobs=4,\n",
       "             param_grid={'colsample_bytree': [0.6, 0.7, 0.8, 0.9],\n",
       "                         'subsample': [0.6, 0.7, 0.8, 0.9]},\n",
       "             scoring='roc_auc')"
      ]
     },
     "execution_count": 200,
     "metadata": {},
     "output_type": "execute_result"
    }
   ],
   "source": [
    "param_test5 = {\n",
    "    'subsample':[i/10.0 for i in range(6,10)],\n",
    "    'colsample_bytree':[i/10.0 for i in range(6,10)]\n",
    "}\n",
    "gsearch5 = GridSearchCV(estimator = XGBClassifier(learning_rate=0.1,\n",
    "                                                  max_depth=6,\n",
    "                                                  min_child_weight=1, \n",
    "                                                  gamma=0, \n",
    "                                                  subsample=0.8, \n",
    "                                                  colsample_bytree=0.8,\n",
    "                                                  objective= 'binary:logistic', \n",
    "                                                  nthread=4, scale_pos_weight=1, seed=27),\n",
    "                        param_grid = param_test5, scoring='roc_auc',n_jobs=4, iid=False, cv=5)\n",
    "gsearch5.fit(dtrain, train_labels)"
   ]
  },
  {
   "cell_type": "code",
   "execution_count": 201,
   "metadata": {},
   "outputs": [
    {
     "data": {
      "text/plain": [
       "({'mean_fit_time': array([1.91527076, 1.8458869 , 1.68830843, 1.63103967, 2.08558998,\n",
       "         1.90331917, 1.80229359, 1.72548566, 2.15826826, 2.07145863,\n",
       "         1.98547959, 1.88436298, 2.35712814, 2.23890405, 2.15204215,\n",
       "         2.04251919]),\n",
       "  'std_fit_time': array([0.01539631, 0.05359163, 0.05666025, 0.03916668, 0.05313132,\n",
       "         0.03561119, 0.02666675, 0.02082188, 0.02435702, 0.02095617,\n",
       "         0.01537162, 0.02570481, 0.01132196, 0.03062635, 0.0315967 ,\n",
       "         0.0196545 ]),\n",
       "  'mean_score_time': array([0.01860337, 0.01838446, 0.02222385, 0.02360535, 0.02002158,\n",
       "         0.01581578, 0.01933537, 0.01670609, 0.01661382, 0.01802778,\n",
       "         0.01401877, 0.01472425, 0.01555963, 0.01366615, 0.01406569,\n",
       "         0.01416273]),\n",
       "  'std_score_time': array([0.00392766, 0.00375194, 0.0039211 , 0.00553347, 0.00524468,\n",
       "         0.00160156, 0.00539063, 0.00534158, 0.0034539 , 0.00335388,\n",
       "         0.00088288, 0.00259476, 0.0021478 , 0.00171804, 0.00149599,\n",
       "         0.00255416]),\n",
       "  'param_colsample_bytree': masked_array(data=[0.6, 0.6, 0.6, 0.6, 0.7, 0.7, 0.7, 0.7, 0.8, 0.8, 0.8,\n",
       "                     0.8, 0.9, 0.9, 0.9, 0.9],\n",
       "               mask=[False, False, False, False, False, False, False, False,\n",
       "                     False, False, False, False, False, False, False, False],\n",
       "         fill_value='?',\n",
       "              dtype=object),\n",
       "  'param_subsample': masked_array(data=[0.6, 0.7, 0.8, 0.9, 0.6, 0.7, 0.8, 0.9, 0.6, 0.7, 0.8,\n",
       "                     0.9, 0.6, 0.7, 0.8, 0.9],\n",
       "               mask=[False, False, False, False, False, False, False, False,\n",
       "                     False, False, False, False, False, False, False, False],\n",
       "         fill_value='?',\n",
       "              dtype=object),\n",
       "  'params': [{'colsample_bytree': 0.6, 'subsample': 0.6},\n",
       "   {'colsample_bytree': 0.6, 'subsample': 0.7},\n",
       "   {'colsample_bytree': 0.6, 'subsample': 0.8},\n",
       "   {'colsample_bytree': 0.6, 'subsample': 0.9},\n",
       "   {'colsample_bytree': 0.7, 'subsample': 0.6},\n",
       "   {'colsample_bytree': 0.7, 'subsample': 0.7},\n",
       "   {'colsample_bytree': 0.7, 'subsample': 0.8},\n",
       "   {'colsample_bytree': 0.7, 'subsample': 0.9},\n",
       "   {'colsample_bytree': 0.8, 'subsample': 0.6},\n",
       "   {'colsample_bytree': 0.8, 'subsample': 0.7},\n",
       "   {'colsample_bytree': 0.8, 'subsample': 0.8},\n",
       "   {'colsample_bytree': 0.8, 'subsample': 0.9},\n",
       "   {'colsample_bytree': 0.9, 'subsample': 0.6},\n",
       "   {'colsample_bytree': 0.9, 'subsample': 0.7},\n",
       "   {'colsample_bytree': 0.9, 'subsample': 0.8},\n",
       "   {'colsample_bytree': 0.9, 'subsample': 0.9}],\n",
       "  'split0_test_score': array([0.56452867, 0.55863488, 0.57199451, 0.55486194, 0.56533471,\n",
       "         0.57333791, 0.58169554, 0.56900474, 0.56262791, 0.57658206,\n",
       "         0.57773681, 0.56836449, 0.55411164, 0.57239038, 0.55459327,\n",
       "         0.56806151]),\n",
       "  'split1_test_score': array([0.54936019, 0.55173455, 0.54807117, 0.52914751, 0.54435082,\n",
       "         0.54448471, 0.53326667, 0.54402322, 0.55438381, 0.54089254,\n",
       "         0.53947676, 0.5376764 , 0.55033301, 0.54353895, 0.55180007,\n",
       "         0.55231853]),\n",
       "  'split2_test_score': array([0.56774403, 0.55547199, 0.55827793, 0.56855305, 0.57076076,\n",
       "         0.56019508, 0.57346699, 0.56112944, 0.57622165, 0.57583708,\n",
       "         0.56760729, 0.56339697, 0.56352231, 0.56936207, 0.56259365,\n",
       "         0.57257536]),\n",
       "  'split3_test_score': array([0.56863566, 0.55103948, 0.55723247, 0.54907105, 0.56212077,\n",
       "         0.56174617, 0.55107366, 0.55430119, 0.56636528, 0.55066345,\n",
       "         0.55856849, 0.55626677, 0.57207969, 0.54632494, 0.57005714,\n",
       "         0.5630295 ]),\n",
       "  'split4_test_score': array([0.57543298, 0.55636057, 0.58211461, 0.56371723, 0.56742989,\n",
       "         0.57451196, 0.55820259, 0.56563363, 0.5567181 , 0.5624587 ,\n",
       "         0.56262174, 0.57082219, 0.55970711, 0.56329105, 0.5622213 ,\n",
       "         0.57739227]),\n",
       "  'mean_test_score': array([0.56514031, 0.55464829, 0.56353814, 0.55307016, 0.56199939,\n",
       "         0.56285516, 0.55954109, 0.55881844, 0.56326335, 0.56128677,\n",
       "         0.56120222, 0.55930537, 0.55995075, 0.55898148, 0.56025309,\n",
       "         0.56667543]),\n",
       "  'std_test_score': array([0.00865242, 0.00286415, 0.01202709, 0.01374465, 0.00926135,\n",
       "         0.01087703, 0.01702107, 0.00888653, 0.00774119, 0.01397004,\n",
       "         0.01261241, 0.01190371, 0.00756998, 0.01187255, 0.00646465,\n",
       "         0.00861388]),\n",
       "  'rank_test_score': array([ 2, 15,  3, 16,  6,  5, 11, 14,  4,  7,  8, 12, 10, 13,  9,  1])},\n",
       " {'colsample_bytree': 0.9, 'subsample': 0.9},\n",
       " 0.5666754334129287)"
      ]
     },
     "execution_count": 201,
     "metadata": {},
     "output_type": "execute_result"
    }
   ],
   "source": [
    "gsearch5.cv_results_, gsearch5.best_params_, gsearch5.best_score_"
   ]
  },
  {
   "cell_type": "code",
   "execution_count": 213,
   "metadata": {},
   "outputs": [
    {
     "name": "stderr",
     "output_type": "stream",
     "text": [
      "C:\\Python37\\lib\\site-packages\\sklearn\\model_selection\\_search.py:849: FutureWarning: The parameter 'iid' is deprecated in 0.22 and will be removed in 0.24.\n",
      "  \"removed in 0.24.\", FutureWarning\n",
      "C:\\Python37\\lib\\site-packages\\xgboost\\sklearn.py:888: UserWarning: The use of label encoder in XGBClassifier is deprecated and will be removed in a future release. To remove this warning, do the following: 1) Pass option use_label_encoder=False when constructing XGBClassifier object; and 2) Encode your labels (y) as integers starting with 0, i.e. 0, 1, 2, ..., [num_class - 1].\n",
      "  warnings.warn(label_encoder_deprecation_msg, UserWarning)\n"
     ]
    },
    {
     "name": "stdout",
     "output_type": "stream",
     "text": [
      "[20:25:55] WARNING: C:/Users/Administrator/workspace/xgboost-win64_release_1.3.0/src/learner.cc:1061: Starting in XGBoost 1.3.0, the default evaluation metric used with the objective 'binary:logistic' was changed from 'error' to 'logloss'. Explicitly set eval_metric if you'd like to restore the old behavior.\n"
     ]
    },
    {
     "data": {
      "text/plain": [
       "GridSearchCV(cv=5,\n",
       "             estimator=XGBClassifier(base_score=None, booster=None,\n",
       "                                     colsample_bylevel=None,\n",
       "                                     colsample_bynode=None,\n",
       "                                     colsample_bytree=0.8, gamma=0, gpu_id=None,\n",
       "                                     importance_type='gain',\n",
       "                                     interaction_constraints=None,\n",
       "                                     learning_rate=0.1, max_delta_step=None,\n",
       "                                     max_depth=6, min_child_weight=1,\n",
       "                                     missing=nan, monotone_constraints=None,\n",
       "                                     n_estimators=100, n_jobs=None, nthread=4,\n",
       "                                     num_parallel_tree=None, random_state=None,\n",
       "                                     reg_alpha=None, reg_lambda=None,\n",
       "                                     scale_pos_weight=1, seed=27, subsample=0.8,\n",
       "                                     tree_method=None, validate_parameters=None,\n",
       "                                     verbosity=None),\n",
       "             iid=False, n_jobs=4,\n",
       "             param_grid={'reg_alpha': [1e-05, 0.01, 0.1, 1, 100]},\n",
       "             scoring='roc_auc')"
      ]
     },
     "execution_count": 213,
     "metadata": {},
     "output_type": "execute_result"
    }
   ],
   "source": [
    "param_test6 = {\n",
    "    'reg_alpha':[1e-5, 1e-2, 0.1, 1, 100]\n",
    "}\n",
    "gsearch6 = GridSearchCV(estimator = XGBClassifier(learning_rate=0.1,\n",
    "                                                  max_depth=6,\n",
    "                                                  min_child_weight=1, \n",
    "                                                  gamma=0, \n",
    "                                                  subsample=0.8, \n",
    "                                                  colsample_bytree=0.8,\n",
    "                                                  objective= 'binary:logistic', \n",
    "                                                  nthread=4, scale_pos_weight=1, seed=27),\n",
    "                        param_grid = param_test6, scoring='roc_auc',n_jobs=4, iid=False, cv=5)\n",
    "gsearch6.fit(dtrain, train_labels)"
   ]
  },
  {
   "cell_type": "code",
   "execution_count": 214,
   "metadata": {},
   "outputs": [
    {
     "data": {
      "text/plain": [
       "({'mean_fit_time': array([2.10189543, 2.00427518, 2.03998079, 2.06040649, 1.158499  ]),\n",
       "  'std_fit_time': array([0.04013855, 0.03346814, 0.01632823, 0.0410082 , 0.22173772]),\n",
       "  'mean_score_time': array([0.01761193, 0.02381754, 0.01522002, 0.01676402, 0.01017303]),\n",
       "  'std_score_time': array([0.00313775, 0.01520863, 0.00265757, 0.00419971, 0.00074611]),\n",
       "  'param_reg_alpha': masked_array(data=[1e-05, 0.01, 0.1, 1, 100],\n",
       "               mask=[False, False, False, False, False],\n",
       "         fill_value='?',\n",
       "              dtype=object),\n",
       "  'params': [{'reg_alpha': 1e-05},\n",
       "   {'reg_alpha': 0.01},\n",
       "   {'reg_alpha': 0.1},\n",
       "   {'reg_alpha': 1},\n",
       "   {'reg_alpha': 100}],\n",
       "  'split0_test_score': array([0.57773681, 0.57284914, 0.56488595, 0.55397873, 0.52638198]),\n",
       "  'split1_test_score': array([0.53947676, 0.53663237, 0.54275272, 0.55282559, 0.54458868]),\n",
       "  'split2_test_score': array([0.56760729, 0.56595507, 0.56438546, 0.5811185 , 0.49792475]),\n",
       "  'split3_test_score': array([0.55856991, 0.55571983, 0.55793609, 0.57147863, 0.54387367]),\n",
       "  'split4_test_score': array([0.56262174, 0.56406619, 0.56282196, 0.5744519 , 0.49714686]),\n",
       "  'mean_test_score': array([0.5612025 , 0.55904452, 0.55855644, 0.56677067, 0.52198319]),\n",
       "  'std_test_score': array([0.01261235, 0.01246514, 0.00827499, 0.01135892, 0.02100096]),\n",
       "  'rank_test_score': array([2, 3, 4, 1, 5])},\n",
       " {'reg_alpha': 1},\n",
       " 0.5667706688778811)"
      ]
     },
     "execution_count": 214,
     "metadata": {},
     "output_type": "execute_result"
    }
   ],
   "source": [
    "gsearch6.cv_results_, gsearch6.best_params_, gsearch6.best_score_"
   ]
  },
  {
   "cell_type": "code",
   "execution_count": 215,
   "metadata": {},
   "outputs": [
    {
     "name": "stderr",
     "output_type": "stream",
     "text": [
      "C:\\Python37\\lib\\site-packages\\sklearn\\model_selection\\_search.py:849: FutureWarning: The parameter 'iid' is deprecated in 0.22 and will be removed in 0.24.\n",
      "  \"removed in 0.24.\", FutureWarning\n",
      "C:\\Python37\\lib\\site-packages\\xgboost\\sklearn.py:888: UserWarning: The use of label encoder in XGBClassifier is deprecated and will be removed in a future release. To remove this warning, do the following: 1) Pass option use_label_encoder=False when constructing XGBClassifier object; and 2) Encode your labels (y) as integers starting with 0, i.e. 0, 1, 2, ..., [num_class - 1].\n",
      "  warnings.warn(label_encoder_deprecation_msg, UserWarning)\n"
     ]
    },
    {
     "name": "stdout",
     "output_type": "stream",
     "text": [
      "[20:27:45] WARNING: C:/Users/Administrator/workspace/xgboost-win64_release_1.3.0/src/learner.cc:1061: Starting in XGBoost 1.3.0, the default evaluation metric used with the objective 'binary:logistic' was changed from 'error' to 'logloss'. Explicitly set eval_metric if you'd like to restore the old behavior.\n"
     ]
    },
    {
     "data": {
      "text/plain": [
       "GridSearchCV(cv=5,\n",
       "             estimator=XGBClassifier(base_score=None, booster=None,\n",
       "                                     colsample_bylevel=None,\n",
       "                                     colsample_bynode=None,\n",
       "                                     colsample_bytree=0.8, gamma=0, gpu_id=None,\n",
       "                                     importance_type='gain',\n",
       "                                     interaction_constraints=None,\n",
       "                                     learning_rate=0.1, max_delta_step=None,\n",
       "                                     max_depth=6, min_child_weight=1,\n",
       "                                     missing=nan, monotone_constraints=None,\n",
       "                                     n_estimators=100, n_jobs=None, nthread=4,\n",
       "                                     num_parallel_tree=None, random_state=None,\n",
       "                                     reg_alpha=None, reg_lambda=None,\n",
       "                                     scale_pos_weight=1, seed=27, subsample=0.8,\n",
       "                                     tree_method=None, validate_parameters=None,\n",
       "                                     verbosity=None),\n",
       "             iid=False, n_jobs=4,\n",
       "             param_grid={'reg_alpha': [0, 0.001, 0.005, 0.01, 0.05]},\n",
       "             scoring='roc_auc')"
      ]
     },
     "execution_count": 215,
     "metadata": {},
     "output_type": "execute_result"
    }
   ],
   "source": [
    "param_test7 = {\n",
    "    'reg_alpha':[0, 0.001, 0.005, 0.01, 0.05]\n",
    "}\n",
    "gsearch7 = GridSearchCV(estimator = XGBClassifier(learning_rate=0.1,\n",
    "                                                  max_depth=6,\n",
    "                                                  min_child_weight=1, \n",
    "                                                  gamma=0, \n",
    "                                                  subsample=0.8, \n",
    "                                                  colsample_bytree=0.8,\n",
    "                                                  objective= 'binary:logistic', \n",
    "                                                  nthread=4, scale_pos_weight=1, seed=27),\n",
    "                        param_grid = param_test7, scoring='roc_auc',n_jobs=4, iid=False, cv=5)\n",
    "gsearch7.fit(dtrain, train_labels)"
   ]
  },
  {
   "cell_type": "code",
   "execution_count": 216,
   "metadata": {},
   "outputs": [
    {
     "data": {
      "text/plain": [
       "({'mean_fit_time': array([2.03762078, 2.08355575, 2.07747102, 2.05632501, 1.74127336]),\n",
       "  'std_fit_time': array([0.01188202, 0.04503189, 0.01742138, 0.01755111, 0.50387539]),\n",
       "  'mean_score_time': array([0.01898518, 0.01937695, 0.01760135, 0.0177536 , 0.01340981]),\n",
       "  'std_score_time': array([0.00301699, 0.00505319, 0.0035688 , 0.00494894, 0.00266782]),\n",
       "  'param_reg_alpha': masked_array(data=[0, 0.001, 0.005, 0.01, 0.05],\n",
       "               mask=[False, False, False, False, False],\n",
       "         fill_value='?',\n",
       "              dtype=object),\n",
       "  'params': [{'reg_alpha': 0},\n",
       "   {'reg_alpha': 0.001},\n",
       "   {'reg_alpha': 0.005},\n",
       "   {'reg_alpha': 0.01},\n",
       "   {'reg_alpha': 0.05}],\n",
       "  'split0_test_score': array([0.57773681, 0.57776825, 0.58987023, 0.57284914, 0.56981507]),\n",
       "  'split1_test_score': array([0.53947676, 0.54635913, 0.53956507, 0.53663237, 0.54204055]),\n",
       "  'split2_test_score': array([0.56760729, 0.56751044, 0.56019508, 0.56595507, 0.5691883 ]),\n",
       "  'split3_test_score': array([0.55856849, 0.55781644, 0.56079614, 0.55571983, 0.55542357]),\n",
       "  'split4_test_score': array([0.56262174, 0.56263032, 0.57099381, 0.56406619, 0.55940106]),\n",
       "  'mean_test_score': array([0.56120222, 0.56241692, 0.56428407, 0.55904452, 0.55917371]),\n",
       "  'std_test_score': array([0.01261241, 0.01039875, 0.01636818, 0.01246514, 0.01020971]),\n",
       "  'rank_test_score': array([3, 2, 1, 5, 4])},\n",
       " {'reg_alpha': 0.005},\n",
       " 0.5642840655987751)"
      ]
     },
     "execution_count": 216,
     "metadata": {},
     "output_type": "execute_result"
    }
   ],
   "source": [
    "gsearch7.cv_results_, gsearch7.best_params_, gsearch7.best_score_"
   ]
  },
  {
   "cell_type": "code",
   "execution_count": 396,
   "metadata": {},
   "outputs": [
    {
     "name": "stderr",
     "output_type": "stream",
     "text": [
      "C:\\Python37\\lib\\site-packages\\xgboost\\sklearn.py:888: UserWarning: The use of label encoder in XGBClassifier is deprecated and will be removed in a future release. To remove this warning, do the following: 1) Pass option use_label_encoder=False when constructing XGBClassifier object; and 2) Encode your labels (y) as integers starting with 0, i.e. 0, 1, 2, ..., [num_class - 1].\n",
      "  warnings.warn(label_encoder_deprecation_msg, UserWarning)\n"
     ]
    },
    {
     "name": "stdout",
     "output_type": "stream",
     "text": [
      "\n",
      "Model Report\n",
      "Accuracy :  0.8570948217888366\n",
      "AUC Score (Train) :  0.8611527399485746\n",
      "Confusion Matrix : \n",
      " [[7612    0]\n",
      " [1275   35]]\n",
      "AUC Score (Test) :  0.5991763677948243\n",
      "Confusion Matrix : \n",
      " [[1902    2]\n",
      " [ 326    1]]\n"
     ]
    },
    {
     "data": {
      "image/png": "[encoded data removed]",
      "text/plain": [
       "<Figure size 864x288 with 1 Axes>"
      ]
     },
     "metadata": {
      "needs_background": "light"
     },
     "output_type": "display_data"
    }
   ],
   "source": [
    "xgb2 = XGBClassifier(learning_rate=0.1,\n",
    "                    max_depth=9,\n",
    "                    min_child_weight=1,\n",
    "                    gamma=0,\n",
    "                    subsample=0.8,\n",
    "                    colsample_bytree=0.8,\n",
    "                    objective='binary:logistic',\n",
    "                    nthread=4,\n",
    "                    scale_pos_weight=1,\n",
    "                    seed=27)\n",
    "model(xgb2, dtrain, dtest, train_labels, test_labels)"
   ]
  },
  {
   "cell_type": "code",
   "execution_count": null,
   "metadata": {
    "collapsed": true
   },
   "outputs": [],
   "source": []
  }
 ],
 "metadata": {
  "kernelspec": {
   "display_name": "Python 3",
   "language": "python",
   "name": "python3"
  },
  "language_info": {
   "codemirror_mode": {
    "name": "ipython",
    "version": 3
   },
   "file_extension": ".py",
   "mimetype": "text/x-python",
   "name": "python",
   "nbconvert_exporter": "python",
   "pygments_lexer": "ipython3",
   "version": "3.7.0"
  }
 },
 "nbformat": 4,
 "nbformat_minor": 2
}
